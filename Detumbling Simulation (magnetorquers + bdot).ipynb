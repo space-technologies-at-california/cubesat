{
 "cells": [
  {
   "cell_type": "code",
   "execution_count": 1,
   "metadata": {},
   "outputs": [],
   "source": [
    "import numpy as np\n",
    "import matplotlib.pyplot as plt\n",
    "%matplotlib inline"
   ]
  },
  {
   "cell_type": "code",
   "execution_count": 2,
   "metadata": {},
   "outputs": [],
   "source": [
    "def magnetorquer_out(mag_field_str, ang_vel, gain):\n",
    "    scalar_coef = -gain / np.dot(mag_field_str, mag_field_str)\n",
    "    magnetic_dipoles = scalar_coef * np.cross(mag_field_str, ang_vel)\n",
    "    return np.cross(magnetic_dipoles, mag_field_str)"
   ]
  },
  {
   "cell_type": "code",
   "execution_count": 3,
   "metadata": {},
   "outputs": [
    {
     "data": {
      "text/plain": [
       "array([ 1.])"
      ]
     },
     "execution_count": 3,
     "metadata": {},
     "output_type": "execute_result"
    }
   ],
   "source": [
    "asdf = []\n",
    "np.append(asdf, 1)"
   ]
  },
  {
   "cell_type": "code",
   "execution_count": 13,
   "metadata": {},
   "outputs": [
    {
     "ename": "TypeError",
     "evalue": "bad operand type for unary -: 'ellipsis'",
     "output_type": "error",
     "traceback": [
      "\u001b[1;31m---------------------------------------------------------------------------\u001b[0m",
      "\u001b[1;31mTypeError\u001b[0m                                 Traceback (most recent call last)",
      "\u001b[1;32m<ipython-input-13-4e71ce1998ba>\u001b[0m in \u001b[0;36m<module>\u001b[1;34m()\u001b[0m\n\u001b[0;32m      9\u001b[0m     \u001b[0minitial_ang_vel\u001b[0m \u001b[1;33m=\u001b[0m \u001b[0mcurr_ang_vel\u001b[0m\u001b[1;33m\u001b[0m\u001b[0m\n\u001b[0;32m     10\u001b[0m     \u001b[0minverse_inertia_matrix\u001b[0m \u001b[1;33m=\u001b[0m \u001b[1;33m...\u001b[0m\u001b[1;33m\u001b[0m\u001b[0m\n\u001b[1;32m---> 11\u001b[1;33m     \u001b[0mang_acceleration\u001b[0m \u001b[1;33m=\u001b[0m \u001b[0mmagnetorquer_out\u001b[0m\u001b[1;33m(\u001b[0m\u001b[1;33m...\u001b[0m\u001b[1;33m,\u001b[0m \u001b[1;33m...\u001b[0m\u001b[1;33m,\u001b[0m \u001b[1;33m...\u001b[0m\u001b[1;33m)\u001b[0m \u001b[1;33m*\u001b[0m \u001b[0minverse_inertia_matrix\u001b[0m\u001b[1;33m\u001b[0m\u001b[0m\n\u001b[0m\u001b[0;32m     12\u001b[0m     \u001b[0mcurr_ang_vel\u001b[0m \u001b[1;33m=\u001b[0m \u001b[0minitial_ang_vel\u001b[0m \u001b[1;33m+\u001b[0m \u001b[0mang_acceleration\u001b[0m\u001b[1;33m*\u001b[0m\u001b[0mtime_step\u001b[0m \u001b[1;31m# force is applied during entire time_step\u001b[0m\u001b[1;33m\u001b[0m\u001b[0m\n\u001b[0;32m     13\u001b[0m \u001b[1;33m\u001b[0m\u001b[0m\n",
      "\u001b[1;32m<ipython-input-11-121a781ae131>\u001b[0m in \u001b[0;36mmagnetorquer_out\u001b[1;34m(mag_field_str, ang_vel, gain)\u001b[0m\n\u001b[0;32m      1\u001b[0m \u001b[1;32mdef\u001b[0m \u001b[0mmagnetorquer_out\u001b[0m\u001b[1;33m(\u001b[0m\u001b[0mmag_field_str\u001b[0m\u001b[1;33m,\u001b[0m \u001b[0mang_vel\u001b[0m\u001b[1;33m,\u001b[0m \u001b[0mgain\u001b[0m\u001b[1;33m)\u001b[0m\u001b[1;33m:\u001b[0m\u001b[1;33m\u001b[0m\u001b[0m\n\u001b[1;32m----> 2\u001b[1;33m     \u001b[0mscalar_coef\u001b[0m \u001b[1;33m=\u001b[0m \u001b[1;33m-\u001b[0m\u001b[0mgain\u001b[0m \u001b[1;33m/\u001b[0m \u001b[0mnp\u001b[0m\u001b[1;33m.\u001b[0m\u001b[0mdot\u001b[0m\u001b[1;33m(\u001b[0m\u001b[0mmag_field_str\u001b[0m\u001b[1;33m,\u001b[0m \u001b[0mmag_field_str\u001b[0m\u001b[1;33m)\u001b[0m\u001b[1;33m\u001b[0m\u001b[0m\n\u001b[0m\u001b[0;32m      3\u001b[0m     \u001b[0mmagnetic_dipoles\u001b[0m \u001b[1;33m=\u001b[0m \u001b[0mscalar_coef\u001b[0m \u001b[1;33m*\u001b[0m \u001b[0mnp\u001b[0m\u001b[1;33m.\u001b[0m\u001b[0mcross\u001b[0m\u001b[1;33m(\u001b[0m\u001b[0mmag_field_str\u001b[0m\u001b[1;33m,\u001b[0m \u001b[0mang_vel\u001b[0m\u001b[1;33m)\u001b[0m\u001b[1;33m\u001b[0m\u001b[0m\n\u001b[0;32m      4\u001b[0m     \u001b[1;32mreturn\u001b[0m \u001b[0mnp\u001b[0m\u001b[1;33m.\u001b[0m\u001b[0mcross\u001b[0m\u001b[1;33m(\u001b[0m\u001b[0mmagnetic_dipoles\u001b[0m\u001b[1;33m,\u001b[0m \u001b[0mmag_field_str\u001b[0m\u001b[1;33m)\u001b[0m\u001b[1;33m\u001b[0m\u001b[0m\n",
      "\u001b[1;31mTypeError\u001b[0m: bad operand type for unary -: 'ellipsis'"
     ]
    }
   ],
   "source": [
    "time_step = 10\n",
    "time = 300\n",
    "curr_ang_vel = [] # set initial\n",
    "intertia_matrix = []\n",
    "\n",
    "ang_vel_data = []\n",
    "\n",
    "for i in np.arange(0, time, time_step):\n",
    "    initial_ang_vel = curr_ang_vel\n",
    "    inverse_inertia_matrix = ...\n",
    "    ang_acceleration = magnetorquer_out(..., ..., ...) * inverse_inertia_matrix \n",
    "    \n",
    "    # introduce gaussian noise to the calculation of our new angular velocity\n",
    "    curr_ang_vel = initial_ang_vel + ang_acceleration*time_step # force is applied during entire time_step\n",
    "    \n",
    "    \n",
    "    np.append(ang_vel_data, curr_ang_vel) # adds ang_vel data point to list\n",
    "\n",
    "plt.plot(np.arange(0, time, time_step), ang_vel_data) # generate plot"
   ]
  },
  {
   "cell_type": "code",
   "execution_count": null,
   "metadata": {
    "collapsed": true
   },
   "outputs": [],
   "source": []
  }
 ],
 "metadata": {
  "kernelspec": {
   "display_name": "Python 3",
   "language": "python",
   "name": "python3"
  },
  "language_info": {
   "codemirror_mode": {
    "name": "ipython",
    "version": 3
   },
   "file_extension": ".py",
   "mimetype": "text/x-python",
   "name": "python",
   "nbconvert_exporter": "python",
   "pygments_lexer": "ipython3",
   "version": "3.6.4"
  }
 },
 "nbformat": 4,
 "nbformat_minor": 2
}
