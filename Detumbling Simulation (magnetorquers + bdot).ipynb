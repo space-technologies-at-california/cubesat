{
 "cells": [
  {
   "cell_type": "code",
   "execution_count": 16,
   "metadata": {},
   "outputs": [],
   "source": [
    "import numpy as np\n",
    "import matplotlib.pyplot as plt\n",
    "%matplotlib inline"
   ]
  },
  {
   "cell_type": "markdown",
   "metadata": {},
   "source": [
    "### Defining magnetorquer_out\n",
    "Uses bdot algorithm to output torque required to detumble satellite"
   ]
  },
  {
   "cell_type": "code",
   "execution_count": 17,
   "metadata": {},
   "outputs": [],
   "source": [
    "def magnetorquer_out(mag_field_str, ang_vel, gain):\n",
    "    scalar_coef = -gain / np.dot(mag_field_str, mag_field_str)\n",
    "    magnetic_dipoles = scalar_coef * np.cross(mag_field_str, ang_vel)\n",
    "    return np.cross(magnetic_dipoles, mag_field_str)"
   ]
  },
  {
   "cell_type": "markdown",
   "metadata": {},
   "source": [
    "### Defining simulate_detumble\n",
    "Simulates detumbling of satellite's angular velocity. Returns list of angular velocities corresponding to each time step. Gaussian noise is introduced in the calculation of curr_ang_vel."
   ]
  },
  {
   "cell_type": "code",
   "execution_count": 26,
   "metadata": {},
   "outputs": [
    {
     "ename": "ValueError",
     "evalue": "'axisa' out of bounds",
     "output_type": "error",
     "traceback": [
      "\u001b[1;31m---------------------------------------------------------------------------\u001b[0m",
      "\u001b[1;31mValueError\u001b[0m                                Traceback (most recent call last)",
      "\u001b[1;32m<ipython-input-26-71888973cc70>\u001b[0m in \u001b[0;36m<module>\u001b[1;34m()\u001b[0m\n\u001b[0;32m     18\u001b[0m     \u001b[1;32mreturn\u001b[0m \u001b[0mang_vel_data\u001b[0m\u001b[1;33m\u001b[0m\u001b[0m\n\u001b[0;32m     19\u001b[0m \u001b[1;33m\u001b[0m\u001b[0m\n\u001b[1;32m---> 20\u001b[1;33m \u001b[0ma\u001b[0m \u001b[1;33m=\u001b[0m \u001b[0msimulate_detumble\u001b[0m\u001b[1;33m(\u001b[0m\u001b[0mnp\u001b[0m\u001b[1;33m.\u001b[0m\u001b[0mpi\u001b[0m\u001b[1;33m/\u001b[0m\u001b[1;36m60\u001b[0m\u001b[1;33m,\u001b[0m \u001b[1;36m1\u001b[0m\u001b[1;33m,\u001b[0m \u001b[1;36m300\u001b[0m\u001b[1;33m,\u001b[0m \u001b[1;36m3\u001b[0m\u001b[1;33m)\u001b[0m\u001b[1;33m\u001b[0m\u001b[0m\n\u001b[0m",
      "\u001b[1;32m<ipython-input-26-71888973cc70>\u001b[0m in \u001b[0;36msimulate_detumble\u001b[1;34m(initial_ang_vel, gain, time, dt)\u001b[0m\n\u001b[0;32m     12\u001b[0m         \u001b[0mcurr_ang_vel\u001b[0m \u001b[1;33m=\u001b[0m \u001b[0mang_vel_data\u001b[0m\u001b[1;33m[\u001b[0m\u001b[0mi\u001b[0m\u001b[1;33m]\u001b[0m\u001b[1;33m\u001b[0m\u001b[0m\n\u001b[0;32m     13\u001b[0m         \u001b[0minverse_inertia_matrix\u001b[0m \u001b[1;33m=\u001b[0m \u001b[0mnp\u001b[0m\u001b[1;33m.\u001b[0m\u001b[0mlinalg\u001b[0m\u001b[1;33m.\u001b[0m\u001b[0minv\u001b[0m\u001b[1;33m(\u001b[0m\u001b[0minertia_matrix\u001b[0m\u001b[1;33m)\u001b[0m\u001b[1;33m\u001b[0m\u001b[0m\n\u001b[1;32m---> 14\u001b[1;33m         \u001b[0mang_acceleration\u001b[0m \u001b[1;33m=\u001b[0m \u001b[0minverse_inertia_matrix\u001b[0m \u001b[1;33m*\u001b[0m \u001b[0mmagnetorquer_out\u001b[0m\u001b[1;33m(\u001b[0m\u001b[0mb\u001b[0m\u001b[1;33m,\u001b[0m \u001b[0mcurr_ang_vel\u001b[0m\u001b[1;33m,\u001b[0m \u001b[0mgain\u001b[0m\u001b[1;33m)\u001b[0m\u001b[1;33m\u001b[0m\u001b[0m\n\u001b[0m\u001b[0;32m     15\u001b[0m         \u001b[1;31m# TBD: introduce gaussian noise to the calculation of our new angular velocity\u001b[0m\u001b[1;33m\u001b[0m\u001b[1;33m\u001b[0m\u001b[0m\n\u001b[0;32m     16\u001b[0m         \u001b[0mnew_ang_vel\u001b[0m \u001b[1;33m=\u001b[0m \u001b[0mcurr_ang_vel\u001b[0m \u001b[1;33m+\u001b[0m \u001b[0mang_acceleration\u001b[0m\u001b[1;33m*\u001b[0m\u001b[0mdt\u001b[0m \u001b[1;31m# force is applied during entire time step\u001b[0m\u001b[1;33m\u001b[0m\u001b[0m\n",
      "\u001b[1;32m<ipython-input-17-64c3d769c1a5>\u001b[0m in \u001b[0;36mmagnetorquer_out\u001b[1;34m(mag_field_str, ang_vel, gain)\u001b[0m\n\u001b[0;32m      1\u001b[0m \u001b[1;32mdef\u001b[0m \u001b[0mmagnetorquer_out\u001b[0m\u001b[1;33m(\u001b[0m\u001b[0mmag_field_str\u001b[0m\u001b[1;33m,\u001b[0m \u001b[0mang_vel\u001b[0m\u001b[1;33m,\u001b[0m \u001b[0mgain\u001b[0m\u001b[1;33m)\u001b[0m\u001b[1;33m:\u001b[0m\u001b[1;33m\u001b[0m\u001b[0m\n\u001b[0;32m      2\u001b[0m     \u001b[0mscalar_coef\u001b[0m \u001b[1;33m=\u001b[0m \u001b[1;33m-\u001b[0m\u001b[0mgain\u001b[0m \u001b[1;33m/\u001b[0m \u001b[0mnp\u001b[0m\u001b[1;33m.\u001b[0m\u001b[0mdot\u001b[0m\u001b[1;33m(\u001b[0m\u001b[0mmag_field_str\u001b[0m\u001b[1;33m,\u001b[0m \u001b[0mmag_field_str\u001b[0m\u001b[1;33m)\u001b[0m\u001b[1;33m\u001b[0m\u001b[0m\n\u001b[1;32m----> 3\u001b[1;33m     \u001b[0mmagnetic_dipoles\u001b[0m \u001b[1;33m=\u001b[0m \u001b[0mscalar_coef\u001b[0m \u001b[1;33m*\u001b[0m \u001b[0mnp\u001b[0m\u001b[1;33m.\u001b[0m\u001b[0mcross\u001b[0m\u001b[1;33m(\u001b[0m\u001b[0mmag_field_str\u001b[0m\u001b[1;33m,\u001b[0m \u001b[0mang_vel\u001b[0m\u001b[1;33m)\u001b[0m\u001b[1;33m\u001b[0m\u001b[0m\n\u001b[0m\u001b[0;32m      4\u001b[0m     \u001b[1;32mreturn\u001b[0m \u001b[0mnp\u001b[0m\u001b[1;33m.\u001b[0m\u001b[0mcross\u001b[0m\u001b[1;33m(\u001b[0m\u001b[0mmagnetic_dipoles\u001b[0m\u001b[1;33m,\u001b[0m \u001b[0mmag_field_str\u001b[0m\u001b[1;33m)\u001b[0m\u001b[1;33m\u001b[0m\u001b[0m\n",
      "\u001b[1;32m~\\Anaconda3\\envs\\data100\\lib\\site-packages\\numpy\\core\\numeric.py\u001b[0m in \u001b[0;36mcross\u001b[1;34m(a, b, axisa, axisb, axisc, axis)\u001b[0m\n\u001b[0;32m   1758\u001b[0m     \u001b[0maxis_msg\u001b[0m \u001b[1;33m=\u001b[0m \u001b[1;34m\"'axis{0}' out of bounds\"\u001b[0m\u001b[1;33m\u001b[0m\u001b[0m\n\u001b[0;32m   1759\u001b[0m     \u001b[1;32mif\u001b[0m \u001b[0maxisa\u001b[0m \u001b[1;33m<\u001b[0m \u001b[1;33m-\u001b[0m\u001b[0ma\u001b[0m\u001b[1;33m.\u001b[0m\u001b[0mndim\u001b[0m \u001b[1;32mor\u001b[0m \u001b[0maxisa\u001b[0m \u001b[1;33m>=\u001b[0m \u001b[0ma\u001b[0m\u001b[1;33m.\u001b[0m\u001b[0mndim\u001b[0m\u001b[1;33m:\u001b[0m\u001b[1;33m\u001b[0m\u001b[0m\n\u001b[1;32m-> 1760\u001b[1;33m         \u001b[1;32mraise\u001b[0m \u001b[0mValueError\u001b[0m\u001b[1;33m(\u001b[0m\u001b[0maxis_msg\u001b[0m\u001b[1;33m.\u001b[0m\u001b[0mformat\u001b[0m\u001b[1;33m(\u001b[0m\u001b[1;34m'a'\u001b[0m\u001b[1;33m)\u001b[0m\u001b[1;33m)\u001b[0m\u001b[1;33m\u001b[0m\u001b[0m\n\u001b[0m\u001b[0;32m   1761\u001b[0m     \u001b[1;32mif\u001b[0m \u001b[0maxisb\u001b[0m \u001b[1;33m<\u001b[0m \u001b[1;33m-\u001b[0m\u001b[0mb\u001b[0m\u001b[1;33m.\u001b[0m\u001b[0mndim\u001b[0m \u001b[1;32mor\u001b[0m \u001b[0maxisb\u001b[0m \u001b[1;33m>=\u001b[0m \u001b[0mb\u001b[0m\u001b[1;33m.\u001b[0m\u001b[0mndim\u001b[0m\u001b[1;33m:\u001b[0m\u001b[1;33m\u001b[0m\u001b[0m\n\u001b[0;32m   1762\u001b[0m         \u001b[1;32mraise\u001b[0m \u001b[0mValueError\u001b[0m\u001b[1;33m(\u001b[0m\u001b[0maxis_msg\u001b[0m\u001b[1;33m.\u001b[0m\u001b[0mformat\u001b[0m\u001b[1;33m(\u001b[0m\u001b[1;34m'b'\u001b[0m\u001b[1;33m)\u001b[0m\u001b[1;33m)\u001b[0m\u001b[1;33m\u001b[0m\u001b[0m\n",
      "\u001b[1;31mValueError\u001b[0m: 'axisa' out of bounds"
     ]
    }
   ],
   "source": [
    "initial_ang_vel_array = np.linspace(np.pi/60, np.pi/6, 30) # generate possible initial ang_vel's\n",
    "b = 100 # Earth's magnetic field strength, in nano Teslas\n",
    "inertia_matrix = [ # grams * square millimeters\n",
    "    [1308846.485, -10374.412, -13883.462],\n",
    "    [-10374.412, 1334376.646, -21514.642],\n",
    "    [-13883.462,-21514.642, 671472.124]\n",
    "]\n",
    "\n",
    "def simulate_detumble(initial_ang_vel, gain, time, dt):    \n",
    "    ang_vel_data = [initial_ang_vel] # radians / second\n",
    "    for i in np.arange(len(np.arange(0, time + dt, dt))):\n",
    "        curr_ang_vel = ang_vel_data[i]\n",
    "        inverse_inertia_matrix = np.linalg.inv(inertia_matrix)\n",
    "        ang_acceleration = magnetorquer_out(b, curr_ang_vel, gain) * inverse_inertia_matrix \n",
    "        # TBD: introduce gaussian noise to the calculation of our new angular velocity\n",
    "        new_ang_vel = curr_ang_vel + ang_acceleration*dt # force is applied during entire time step\n",
    "        ang_vel_data = np.append(ang_vel_data, new_ang_vel) # appends new_ang_vel, \n",
    "    return ang_vel_data\n",
    "\n",
    "a = simulate_detumble(np.pi/60, 1, 300, 3)"
   ]
  },
  {
   "cell_type": "markdown",
   "metadata": {},
   "source": [
    "### Old Version\n",
    "Originally used for brainstorming. Not complete."
   ]
  },
  {
   "cell_type": "code",
   "execution_count": 13,
   "metadata": {},
   "outputs": [
    {
     "ename": "TypeError",
     "evalue": "bad operand type for unary -: 'ellipsis'",
     "output_type": "error",
     "traceback": [
      "\u001b[1;31m---------------------------------------------------------------------------\u001b[0m",
      "\u001b[1;31mTypeError\u001b[0m                                 Traceback (most recent call last)",
      "\u001b[1;32m<ipython-input-13-4e71ce1998ba>\u001b[0m in \u001b[0;36m<module>\u001b[1;34m()\u001b[0m\n\u001b[0;32m      9\u001b[0m     \u001b[0minitial_ang_vel\u001b[0m \u001b[1;33m=\u001b[0m \u001b[0mcurr_ang_vel\u001b[0m\u001b[1;33m\u001b[0m\u001b[0m\n\u001b[0;32m     10\u001b[0m     \u001b[0minverse_inertia_matrix\u001b[0m \u001b[1;33m=\u001b[0m \u001b[1;33m...\u001b[0m\u001b[1;33m\u001b[0m\u001b[0m\n\u001b[1;32m---> 11\u001b[1;33m     \u001b[0mang_acceleration\u001b[0m \u001b[1;33m=\u001b[0m \u001b[0mmagnetorquer_out\u001b[0m\u001b[1;33m(\u001b[0m\u001b[1;33m...\u001b[0m\u001b[1;33m,\u001b[0m \u001b[1;33m...\u001b[0m\u001b[1;33m,\u001b[0m \u001b[1;33m...\u001b[0m\u001b[1;33m)\u001b[0m \u001b[1;33m*\u001b[0m \u001b[0minverse_inertia_matrix\u001b[0m\u001b[1;33m\u001b[0m\u001b[0m\n\u001b[0m\u001b[0;32m     12\u001b[0m     \u001b[0mcurr_ang_vel\u001b[0m \u001b[1;33m=\u001b[0m \u001b[0minitial_ang_vel\u001b[0m \u001b[1;33m+\u001b[0m \u001b[0mang_acceleration\u001b[0m\u001b[1;33m*\u001b[0m\u001b[0mtime_step\u001b[0m \u001b[1;31m# force is applied during entire time_step\u001b[0m\u001b[1;33m\u001b[0m\u001b[0m\n\u001b[0;32m     13\u001b[0m \u001b[1;33m\u001b[0m\u001b[0m\n",
      "\u001b[1;32m<ipython-input-11-121a781ae131>\u001b[0m in \u001b[0;36mmagnetorquer_out\u001b[1;34m(mag_field_str, ang_vel, gain)\u001b[0m\n\u001b[0;32m      1\u001b[0m \u001b[1;32mdef\u001b[0m \u001b[0mmagnetorquer_out\u001b[0m\u001b[1;33m(\u001b[0m\u001b[0mmag_field_str\u001b[0m\u001b[1;33m,\u001b[0m \u001b[0mang_vel\u001b[0m\u001b[1;33m,\u001b[0m \u001b[0mgain\u001b[0m\u001b[1;33m)\u001b[0m\u001b[1;33m:\u001b[0m\u001b[1;33m\u001b[0m\u001b[0m\n\u001b[1;32m----> 2\u001b[1;33m     \u001b[0mscalar_coef\u001b[0m \u001b[1;33m=\u001b[0m \u001b[1;33m-\u001b[0m\u001b[0mgain\u001b[0m \u001b[1;33m/\u001b[0m \u001b[0mnp\u001b[0m\u001b[1;33m.\u001b[0m\u001b[0mdot\u001b[0m\u001b[1;33m(\u001b[0m\u001b[0mmag_field_str\u001b[0m\u001b[1;33m,\u001b[0m \u001b[0mmag_field_str\u001b[0m\u001b[1;33m)\u001b[0m\u001b[1;33m\u001b[0m\u001b[0m\n\u001b[0m\u001b[0;32m      3\u001b[0m     \u001b[0mmagnetic_dipoles\u001b[0m \u001b[1;33m=\u001b[0m \u001b[0mscalar_coef\u001b[0m \u001b[1;33m*\u001b[0m \u001b[0mnp\u001b[0m\u001b[1;33m.\u001b[0m\u001b[0mcross\u001b[0m\u001b[1;33m(\u001b[0m\u001b[0mmag_field_str\u001b[0m\u001b[1;33m,\u001b[0m \u001b[0mang_vel\u001b[0m\u001b[1;33m)\u001b[0m\u001b[1;33m\u001b[0m\u001b[0m\n\u001b[0;32m      4\u001b[0m     \u001b[1;32mreturn\u001b[0m \u001b[0mnp\u001b[0m\u001b[1;33m.\u001b[0m\u001b[0mcross\u001b[0m\u001b[1;33m(\u001b[0m\u001b[0mmagnetic_dipoles\u001b[0m\u001b[1;33m,\u001b[0m \u001b[0mmag_field_str\u001b[0m\u001b[1;33m)\u001b[0m\u001b[1;33m\u001b[0m\u001b[0m\n",
      "\u001b[1;31mTypeError\u001b[0m: bad operand type for unary -: 'ellipsis'"
     ]
    }
   ],
   "source": [
    "time_step = 1 # seconds\n",
    "time = 300 # seconds\n",
    "curr_ang_vel = 10 # set initial\n",
    "inertia_matrix = [ # grams * square millimeters\n",
    "    [1308846.485, -10374.412, -13883.462],\n",
    "    [-10374.412, 1334376.646, -21514.642],\n",
    "    [-13883.462,-21514.642, 671472.124]\n",
    "]\n",
    "gain = 1.0\n",
    "b = 100 # geomagnetic field: nano Teslsas\n",
    "\n",
    "\n",
    "for i in np.arange(0, time, time_step):\n",
    "    initial_ang_vel = ang_vel_data[len(ang_vel_data)-1]\n",
    "    inverse_inertia_matrix = ...\n",
    "    ang_acceleration = magnetorquer_out(..., curr_ang, ...) * inverse_inertia_matrix \n",
    "    \n",
    "    # introduce gaussian noise to the calculation of our new angular velocity\n",
    "    curr_ang_vel = initial_ang_vel + ang_acceleration*time_step # force is applied during entire time_step\n",
    "    \n",
    "    \n",
    "    np.append(ang_vel_data, curr_ang_vel) # adds ang_vel data point to list\n",
    "\n",
    "plt.plot(np.arange(0, time, time_step), ang_vel_data) # generate plot"
   ]
  },
  {
   "cell_type": "code",
   "execution_count": null,
   "metadata": {
    "collapsed": true
   },
   "outputs": [],
   "source": []
  }
 ],
 "metadata": {
  "kernelspec": {
   "display_name": "Python 3",
   "language": "python",
   "name": "python3"
  },
  "language_info": {
   "codemirror_mode": {
    "name": "ipython",
    "version": 3
   },
   "file_extension": ".py",
   "mimetype": "text/x-python",
   "name": "python",
   "nbconvert_exporter": "python",
   "pygments_lexer": "ipython3",
   "version": "3.6.4"
  }
 },
 "nbformat": 4,
 "nbformat_minor": 2
}
