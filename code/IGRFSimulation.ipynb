{
 "cells": [
  {
   "cell_type": "code",
   "execution_count": 20,
   "metadata": {},
   "outputs": [],
   "source": [
    "import numpy as np\n",
    "import matplotlib.pyplot as plt\n",
    "import pandas as pd\n",
    "%matplotlib inline"
   ]
  },
  {
   "cell_type": "code",
   "execution_count": 88,
   "metadata": {
    "scrolled": true
   },
   "outputs": [
    {
     "data": {
      "text/html": [
       "<div>\n",
       "<style scoped>\n",
       "    .dataframe tbody tr th:only-of-type {\n",
       "        vertical-align: middle;\n",
       "    }\n",
       "\n",
       "    .dataframe tbody tr th {\n",
       "        vertical-align: top;\n",
       "    }\n",
       "\n",
       "    .dataframe thead th {\n",
       "        text-align: right;\n",
       "    }\n",
       "</style>\n",
       "<table border=\"1\" class=\"dataframe\">\n",
       "  <thead>\n",
       "    <tr style=\"text-align: right;\">\n",
       "      <th></th>\n",
       "      <th>time</th>\n",
       "      <th>lat</th>\n",
       "      <th>lon</th>\n",
       "      <th>b_x</th>\n",
       "      <th>b_y</th>\n",
       "      <th>b_z</th>\n",
       "    </tr>\n",
       "  </thead>\n",
       "  <tbody>\n",
       "    <tr>\n",
       "      <th>0</th>\n",
       "      <td>0</td>\n",
       "      <td>14.0</td>\n",
       "      <td>-137.2</td>\n",
       "      <td>228.8</td>\n",
       "      <td>38.0</td>\n",
       "      <td>146.4</td>\n",
       "    </tr>\n",
       "    <tr>\n",
       "      <th>1</th>\n",
       "      <td>10</td>\n",
       "      <td>14.0</td>\n",
       "      <td>-137.1</td>\n",
       "      <td>228.8</td>\n",
       "      <td>38.0</td>\n",
       "      <td>146.6</td>\n",
       "    </tr>\n",
       "    <tr>\n",
       "      <th>2</th>\n",
       "      <td>20</td>\n",
       "      <td>14.0</td>\n",
       "      <td>-137.1</td>\n",
       "      <td>228.8</td>\n",
       "      <td>38.0</td>\n",
       "      <td>146.6</td>\n",
       "    </tr>\n",
       "    <tr>\n",
       "      <th>3</th>\n",
       "      <td>30</td>\n",
       "      <td>14.0</td>\n",
       "      <td>-137.1</td>\n",
       "      <td>228.8</td>\n",
       "      <td>38.0</td>\n",
       "      <td>146.6</td>\n",
       "    </tr>\n",
       "    <tr>\n",
       "      <th>4</th>\n",
       "      <td>40</td>\n",
       "      <td>14.0</td>\n",
       "      <td>-137.1</td>\n",
       "      <td>228.8</td>\n",
       "      <td>38.0</td>\n",
       "      <td>146.6</td>\n",
       "    </tr>\n",
       "  </tbody>\n",
       "</table>\n",
       "</div>"
      ],
      "text/plain": [
       "   time   lat    lon    b_x   b_y    b_z\n",
       "0     0  14.0 -137.2  228.8  38.0  146.4\n",
       "1    10  14.0 -137.1  228.8  38.0  146.6\n",
       "2    20  14.0 -137.1  228.8  38.0  146.6\n",
       "3    30  14.0 -137.1  228.8  38.0  146.6\n",
       "4    40  14.0 -137.1  228.8  38.0  146.6"
      ]
     },
     "execution_count": 88,
     "metadata": {},
     "output_type": "execute_result"
    }
   ],
   "source": [
    "b_field_data = pd.read_csv('b_field_data.csv').drop(columns='Unnamed: 0')\n",
    "test1 = pd.read_csv('test1.csv', header=None).iloc[:, [0, 2, 1]]\n",
    "b_data = test1.merge(b_field_data, how='left', left_on=[2, 1], right_on=['lat', 'lon']).iloc[:, [0, 3, 4, 5, 6, 7]].rename(columns={0:'time'})\n",
    "b_data.head()"
   ]
  },
  {
   "cell_type": "code",
   "execution_count": 142,
   "metadata": {},
   "outputs": [],
   "source": [
    "def get_b(time):\n",
    "    return np.array(b_data[b_data['time'] == time].iloc[0, [3, 4, 5]])"
   ]
  },
  {
   "cell_type": "code",
   "execution_count": 145,
   "metadata": {},
   "outputs": [],
   "source": [
    "def rotation_matrix(a,b,c):\n",
    "    return np.array([\n",
    "        [np.cos(a)*np.cos(b)*np.cos(c)-np.sin(a)*np.sin(c), -np.cos(a)*np.cos(b)*np.sin(c)-np.sin(a)*np.cos(c), np.cos(a)*np.sin(b)],\n",
    "        [np.sin(a)*np.cos(b)*np.cos(c)+np.cos(a)*np.sin(c), -np.sin(a)*np.cos(b)*np.sin(c)+np.sin(a)*np.cos(c), np.sin(a)*np.sin(b)],\n",
    "        [-np.sin(b)*np.cos(c),np.sin(b)*np.sin(c), np.cos(b)]\n",
    "    ])"
   ]
  },
  {
   "cell_type": "code",
   "execution_count": 146,
   "metadata": {},
   "outputs": [],
   "source": [
    "def magnetorquer_out(mag_field_str, ang_vel, gain):\n",
    "    scalar_coef = -gain / np.dot(mag_field_str, mag_field_str)\n",
    "    magnetic_dipoles = scalar_coef * np.cross(mag_field_str, ang_vel)\n",
    "    return np.cross(magnetic_dipoles, mag_field_str)"
   ]
  },
  {
   "cell_type": "code",
   "execution_count": 179,
   "metadata": {},
   "outputs": [
    {
     "data": {
      "image/png": "[encoded data removed]",
      "text/plain": [
       "<matplotlib.figure.Figure at 0x7fc00c3cf0f0>"
      ]
     },
     "metadata": {},
     "output_type": "display_data"
    },
    {
     "data": {
      "image/png": "[encoded data removed]",
      "text/plain": [
       "<matplotlib.figure.Figure at 0x7fc024b796a0>"
      ]
     },
     "metadata": {},
     "output_type": "display_data"
    }
   ],
   "source": [
    "b = get_b(0)\n",
    "ang_accel = []\n",
    "ang_pos = []\n",
    "inertia_matrix = np.array([ \n",
    "    [1308846.485, -10374.412, -13883.462],\n",
    "    [-10374.412, 1334376.646, -21514.642],\n",
    "    [-13883.462,-21514.642, 671472.124]\n",
    "])/1000000 # kg * square meter\n",
    "initial_ang_vel = np.array([5000,2000,5000])\n",
    "def gain_func(t):\n",
    "    return 1\n",
    "\n",
    "def detumble(initial_b,initial_ang_vel, initial_ang_position, gain, time, dt):\n",
    "    inverse_inertia_matrix = np.linalg.inv(inertia_matrix)\n",
    "    ang_acceleration = np.matmul(inverse_inertia_matrix,(magnetorquer_out(initial_b, initial_ang_vel, gain)))\n",
    "    \n",
    "    ang_accel.append(ang_acceleration)\n",
    "    new_ang_vel = initial_ang_vel + ang_acceleration*dt\n",
    "    return new_ang_vel\n",
    "\n",
    "def simulation(start,end,initial_b,initial_ang_vel,initial_ang_position,gain,dt):\n",
    "    times = np.arange(start,end+dt,dt)\n",
    "    vel_list = []\n",
    "    vel_list_mag = []\n",
    "    vel_list_x = []\n",
    "    vel_list_y = []\n",
    "    vel_list_z = []\n",
    "    ang_list_x = []\n",
    "    ang_list_y = []\n",
    "    ang_list_z = []\n",
    "    curr_vel = initial_ang_vel\n",
    "    curr_ang = initial_ang_position\n",
    "    curr_b = initial_b\n",
    "    for t in times:\n",
    "        curr_ang = curr_ang + curr_vel*dt\n",
    "        curr_b = np.matmul(rotation_matrix(curr_ang[0],curr_ang[1],curr_ang[2]), initial_b)\n",
    "        curr_vel = detumble(curr_b,curr_vel,curr_ang,gain(t),t,dt)\n",
    "        vel_list.append(curr_vel)\n",
    "        ang_pos.append(curr_ang)\n",
    "\n",
    "    for i in vel_list:\n",
    "        vel_list_x.append(i[0]) \n",
    "        vel_list_y.append(i[1])\n",
    "        vel_list_z.append(i[2])\n",
    "        \n",
    "    for i in ang_pos:\n",
    "        ang_list_x.append(i[0])\n",
    "        ang_list_y.append(i[1])\n",
    "        ang_list_z.append(i[2])\n",
    "    \n",
    "    for j in range(len(vel_list)):\n",
    "        vel_list_mag.append(np.sqrt(vel_list_x[j]**2+vel_list_y[j]**2+vel_list_z[j]**2))\n",
    "    plt.figure()\n",
    "    plt.scatter(times,ang_list_x)\n",
    "    plt.scatter(times,ang_list_y)\n",
    "    plt.scatter(times,ang_list_z)\n",
    "    plt.figure()\n",
    "    plt.scatter(times,vel_list_x)\n",
    "    plt.scatter(times,vel_list_y)\n",
    "    plt.scatter(times,vel_list_z)\n",
    "        \n",
    "simulation(0,10,b,np.array([5000,4000,3000]), np.array([10,20,30]), gain_func,0.1)"
   ]
  },
  {
   "cell_type": "code",
   "execution_count": null,
   "metadata": {},
   "outputs": [],
   "source": []
  }
 ],
 "metadata": {
  "kernelspec": {
   "display_name": "Python 3",
   "language": "python",
   "name": "python3"
  },
  "language_info": {
   "codemirror_mode": {
    "name": "ipython",
    "version": 3
   },
   "file_extension": ".py",
   "mimetype": "text/x-python",
   "name": "python",
   "nbconvert_exporter": "python",
   "pygments_lexer": "ipython3",
   "version": "3.6.4"
  }
 },
 "nbformat": 4,
 "nbformat_minor": 2
}
