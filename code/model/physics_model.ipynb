{
 "cells": [
  {
   "cell_type": "code",
   "execution_count": 72,
   "metadata": {
    "scrolled": true
   },
   "outputs": [],
   "source": [
    "import numpy as np\n",
    "\n",
    "###########\n",
    "# constants\n",
    "###########\n",
    "\n",
    "n =  10  # number of PCBsats left in cubesat\n",
    "m_stac = 100 * (10 ** -3)  # mass of individual stac (KILOGRAMS)\n",
    "\n",
    "#R_z_dot = # tbd, this is our stack velocity in the z direction\n",
    "#R_z = # array of vertical positions of each stack\n",
    "\n",
    "dt = 1  # SECONDS\n",
    "\n",
    "#w_motor =  # motor ang velocity (radians per second)\n",
    "#l_screw =  # screw lead (meters)\n",
    "#r_screw =  # screw radius (meters)\n",
    "#v =  (w_motor * l_screw) / (2 * np.pi)  # linear velocity of screw shaft (meters per second)\n",
    "\n",
    "# 3x3 matrix for moment of inertia of cubesat without stacs\n",
    "MOI_cube = np.array([\n",
    "    [1308846.485, -10374.412, -13883.462],\n",
    "    [-10374.412, 1334376.646, -21514.642],\n",
    "    [-13883.462,-21514.642, 671472.124]]) / 1000000\n",
    "\n",
    "# 3x3 matrix giving moment of inertia of an individual stac about it's own axis\n",
    "MOI_stac = np.array([\n",
    "    [1/12 * (10.1 ** (-4)), 0, 0],\n",
    "    [0, 1/12 * (10.1 ** (-4)), 0], \n",
    "    [0, 0, 1/60000]\n",
    "])\n",
    "\n",
    "\n",
    "# nx3 length v giving the x y z locations of the stacs\n",
    "positions = np.array([\n",
    "    [0, 0, 7.5],\n",
    "    [0, 0, 9],\n",
    "    [0, 0, 10.5],\n",
    "    [0, 0, 12],\n",
    "    [0, 0, 13.5],\n",
    "    [0, 0, 15],\n",
    "    [0, 0, 16.5],\n",
    "    [0, 0, 18],\n",
    "    [0, 0, 19.5],\n",
    "    [0, 0, 21]\n",
    "])\n",
    "\n",
    "##################\n",
    "# helper functions\n",
    "##################\n",
    "\n",
    "# @@@@@@@@@@@@@@@@@@@@@@@@@@@@ double check correctness\n",
    "def v_shaft(w_motor, l_screw):\n",
    "    return (w_motor * l_screw) / (2 * np.pi)\n",
    "\n",
    "# note that R_z_dot \n",
    "#def make_J_dot(R_x, R_y, R_z_dot, n):\n",
    "#    xz = -n * m_stac * R_x * R_z_dot\n",
    "#    yz = -n * m_stac * R_y * R_z_dot\n",
    "#    return np.matrix([[0,  0,  xz],\n",
    "#                     [0,  0,  yz],\n",
    "#                      [xz, yz, 0]])\n",
    "\n",
    "#find moment of inertia of cubesat\n",
    "\n",
    "def inertia_of_cubesat(MOI_cube, MOI_stac, n, positions):\n",
    "    \n",
    "    MOI_mat = np.empty([3,3])\n",
    "        \n",
    "    for i in range(3):\n",
    "        for j in range(3):\n",
    "                       \n",
    "            sumaij = 0\n",
    "            \n",
    "            for x in range(n):\n",
    "                if i != j:\n",
    "                    \n",
    "                    #g = 0\n",
    "                    aij = - positions[x,i] * positions[x,j]\n",
    "                    \n",
    "                else:\n",
    "                    #aij = positions[x,i] * positions[x,j]\n",
    "                    aij = 0\n",
    "                        \n",
    "                    #The equation for this is I_{ij}new = I_{ij} + M[delta_{ij}(a_i*a_j) - a_i*a_j]\n",
    "                \n",
    "                sumaij += aij\n",
    "                \n",
    "            \n",
    "            #MOI_mat[i,j] = MOI_cube[i,j] + n * MOI_stac[i,j] + m_stac*sumaij\n",
    "            MOI_mat[i,j] = n * MOI_stac[i,j] + m_stac*sumaij\n",
    "    return MOI_mat\n",
    "\n",
    "\n",
    "\n",
    "\n",
    "# REWRITING ABOVE FUNCTION IN MATRIX FORM\n",
    "# Note: Assumes we can add inertia tensors linearly. CHECK ASSUMPTION\n",
    "def get_inertial_matrix(MOI_cube, MOI_stac, n, positions):\n",
    "    J_global = 0\n",
    "    \n",
    "    for i in range(n):\n",
    "        r = positions[i][np.newaxis, :].T\n",
    "        r_squared = np.dot(positions[i], positions[i])\n",
    "        \n",
    "        J = MOI_stac + m_stac * (r_squared * np.identity(3) - r * positions[i])\n",
    "        J_global += J\n",
    "    \n",
    "    return J_global + MOI_cube\n",
    "\n",
    "\n",
    "\n",
    "\n"
   ]
  },
  {
   "cell_type": "markdown",
   "metadata": {},
   "source": [
    "### TBD\n",
    "* update stac vertical positions at each time step\n",
    "* compute inertial matrix based on positions\n",
    "* encode some way of adjusting inertial matrix when a stac is released (if z > threshold: DECREASE N BY ONE??)\n",
    "* \n",
    "* NEW PLAN\n",
    "* use `inertia_of_cubesat` function to instantiate initial inertia matrix\n",
    "* gather the vertical positions of the terms in `positions`, our nx3 matrix of the pcb positions (impleentation can either pick out all the `z` terms and save in new matrix since these are the only things we care about, or we can just reuse `positions`)\n",
    "* update `z` values of `positions` after some time step, `dt`.\n",
    "*      if any positions are updated beyond threshold (`z > threshold`) remove them. I THINK WE CAN JUST DECREASE N BY COUNT of BELOW THRESHOLD\n",
    "*      recompute inertia matrix on update `positions`\n",
    "*      store result. I don't think we need to save ALL of the intermediate `positions`, just the most recent one"
   ]
  },
  {
   "cell_type": "code",
   "execution_count": null,
   "metadata": {},
   "outputs": [],
   "source": [
    "import numpy as np\n",
    "import matplotlib.pyplot as plt\n",
    "\n",
    "##################\n",
    "# helper functions\n",
    "##################\n",
    "\n",
    "# updates positions of PCBsats in CubeSat\n",
    "# removes PCBsats which were released\n",
    "def update_positions(positions, z_dot):\n",
    "    global n\n",
    "    \n",
    "    # count records number of released PCBsats\n",
    "    count = 0\n",
    "    \n",
    "    # iterate over each of our 'n' PCBsats\n",
    "    for row in range(n):\n",
    "        # increase position by z_dot\n",
    "        positions[row][2] += z_dot\n",
    "        \n",
    "        # increase count when vertical position exceeds THRESHOLD\n",
    "        if new_z >= THRESHOLD:\n",
    "            count += 1       \n",
    "    \n",
    "    # decrease number of PCBsats by 'count'\n",
    "    n -= count\n",
    "    \n",
    "# computes translational velocity of leadscrew along z-axis\n",
    "def v_shaft(w_motor, l_screw):\n",
    "    return (w_motor * l_screw) / (2 * np.pi)\n",
    "\n",
    "# computes inertial matrix\n",
    "# Note: Assumes we can add inertia tensors linearly. CHECK ASSUMPTION\n",
    "def get_inertial_matrix(MOI_cube, MOI_stac, n, positions):\n",
    "    J_global = 0\n",
    "    \n",
    "    for i in range(n):\n",
    "        r = positions[i][np.newaxis, :].T\n",
    "        r_squared = np.dot(positions[i], positions[i])\n",
    "        \n",
    "        J = MOI_stac + m_stac * (r_squared * np.identity(3) - r * positions[i])\n",
    "        J_global += J\n",
    "    \n",
    "    return J_global + MOI_cube"
   ]
  },
  {
   "cell_type": "code",
   "execution_count": null,
   "metadata": {},
   "outputs": [],
   "source": [
    "############\n",
    "# parameters\n",
    "############\n",
    "\n",
    "# n :: number of PCBsats left in CubeSat\n",
    "# m_stac :: mass of individual PCBsat (KILOGRAMS)\n",
    "# dt :: time step (SECONDS)\n",
    "# w_motor :: motor angular velocity (RADIANS / SECOND)\n",
    "# l_screw :: screw lead (METERS)\n",
    "# r_screw :: screw radius (METERS)\n",
    "# v :: translational velocity of screw shaft along z-axis (METERS / SECOND)\n",
    "# torqueCube :: torque from coil, reaction wheel, whatever we decide on\n",
    "# THRESHOLD :: z-axis value at which PCBsat has left CubeSat\n",
    "\n",
    "# MOI_cube :: 3x3 matrix of moment giving inertia of CubeSat without PCBsats\n",
    "# MOI_stac :: 3x3 matrix of moment giving inertia of individual PCBsat about it's own axis\n",
    "# positions :: nx3 matrix giving x y z locations of PCBsats\n",
    "\n",
    "# I :: list of inertial matrix at each time step\n",
    "# inertial_matrix_eigenvalues :: list of eigenvalues of inertial matrix at each time step\n",
    "# v_stac :: list of velocity of PCBsats at each time step\n",
    "# angVel :: list of angular velocities of PCBsats at each time step\n",
    "\n",
    "n = 10\n",
    "m_stac = 100 * (10 ** -3)\n",
    "dt = 1\n",
    "#v =  (w_motor * l_screw) / (2 * np.pi)\n",
    "#torqueCube\n",
    "THRESHOLD = 22.5\n",
    "\n",
    "I = [get_inertial_matrix(MOI_cube, MOI_stac, n, positions)]\n",
    "inertial_matrix_eigenvalues = [np.linalg.eig(I[-1])[0]]\n",
    "#v_stac\n",
    "#angVel\n",
    "\n",
    "MOI_cube = np.array([\n",
    "    [1308846.485, -10374.412, -13883.462],\n",
    "    [-10374.412, 1334376.646, -21514.642],\n",
    "    [-13883.462,-21514.642, 671472.124]]) / 1000000\n",
    "\n",
    "MOI_stac = np.array([\n",
    "    [1/12 * (10.1 ** (-4)), 0, 0],\n",
    "    [0, 1/12 * (10.1 ** (-4)), 0], \n",
    "    [0, 0, 1/60000]])\n",
    "\n",
    "positions = np.array([\n",
    "    [0, 0, 7.5],\n",
    "    [0, 0, 9],\n",
    "    [0, 0, 10.5],\n",
    "    [0, 0, 12],\n",
    "    [0, 0, 13.5],\n",
    "    [0, 0, 15],\n",
    "    [0, 0, 16.5],\n",
    "    [0, 0, 18],\n",
    "    [0, 0, 19.5],\n",
    "    [0, 0, 21]])"
   ]
  },
  {
   "cell_type": "code",
   "execution_count": 73,
   "metadata": {},
   "outputs": [
    {
     "name": "stdout",
     "output_type": "stream",
     "text": [
      "all PCBsats removed. aborting\n"
     ]
    }
   ],
   "source": [
    "##########\n",
    "# dynamics\n",
    "##########\n",
    "\n",
    "def update_dynamics(w_motor, torqueCube, dt):\n",
    "    global n\n",
    "    \n",
    "    # computes/updates new stac velocity\n",
    "    #v = v_shaft(w_motor, l_screw)  UNCOMMENT IF WE WANT TO USE VARIABLE STAC VELOCITY\n",
    "    v = 0.254 * 0.01\n",
    "    v_stac.append(v)\n",
    "    \n",
    "    # z_dot = vertical displacement of pcb's\n",
    "    z_dot = v * dt\n",
    "    \n",
    "    # updates positions of PCBsats in CubeSat\n",
    "    # removes PCBsats which were released\n",
    "    update_positions(positions, z_dot)\n",
    "    \n",
    "    # stop if all PCBsats released\n",
    "    if (n <= 0):\n",
    "        print(\"all PCBsats removed. aborting\")\n",
    "        return\n",
    "    \n",
    "    # compute new inertia matrix with updated positions + number of pcb's\n",
    "    I.append(get_inertial_matrix(MOI_cube, MOI_stac, n, positions))\n",
    "    \n",
    "    # compute/update list of eigenvalues of inertial matrix\n",
    "    inertial_matrix_eigenvalues.append(np.linalg.eig(I[-1])[0])\n",
    "    \n",
    "    # computes/updates new angular velocity\n",
    "    #angAccel = np.linalg.inv(I[-2]) * torqueCube\n",
    "    #angVel.append(angVel[-1] + angAccel * dt)"
   ]
  },
  {
   "cell_type": "code",
   "execution_count": null,
   "metadata": {},
   "outputs": [],
   "source": [
    "############\n",
    "# simulation\n",
    "############\n",
    "\n",
    "# fills in I, v_stac, angVel lists at each time step in (start, end)\n",
    "\n",
    "start = 0\n",
    "end = 60*100\n",
    "\n",
    "for i in np.arange(start, end+dt, dt):\n",
    "    if (n != 0):\n",
    "        update_dynamics(n, 0, dt)"
   ]
  },
  {
   "cell_type": "code",
   "execution_count": 76,
   "metadata": {},
   "outputs": [
    {
     "data": {
      "text/plain": [
       "[<matplotlib.lines.Line2D at 0x7f755a241908>]"
      ]
     },
     "execution_count": 76,
     "metadata": {},
     "output_type": "execute_result"
    },
    {
     "data": {
      "image/png": "[encoded data removed]",
      "text/plain": [
       "<Figure size 432x288 with 1 Axes>"
      ]
     },
     "metadata": {
      "needs_background": "light"
     },
     "output_type": "display_data"
    },
    {
     "data": {
      "image/png": "[encoded data removed]",
      "text/plain": [
       "<Figure size 432x288 with 1 Axes>"
      ]
     },
     "metadata": {
      "needs_background": "light"
     },
     "output_type": "display_data"
    },
    {
     "data": {
      "image/png": "[encoded data removed]",
      "text/plain": [
       "<Figure size 432x288 with 1 Axes>"
      ]
     },
     "metadata": {
      "needs_background": "light"
     },
     "output_type": "display_data"
    }
   ],
   "source": [
    "x = [val[0] for val in inertial_matrix_eigenvalues]\n",
    "y = [val[1] for val in inertial_matrix_eigenvalues]\n",
    "z = [val[2] for val in inertial_matrix_eigenvalues]\n",
    "\n",
    "# magnitudes\n",
    "#mag_x = np.sqrt(sum([val[0]**2 for val in I]))\n",
    "#mag_x = np.sqrt(sum([val[0]**2 for val in inertial_matrix_eigenvalues]))\n",
    "#mag_x = np.sqrt(sum([val[0]**2 for val in inertial_matrix_eigenvalues]))\n",
    "\n",
    "\n",
    "plt.plot(np.arange(start, len(x), dt), x,'b')\n",
    "plt.figure()\n",
    "#plt.xlim(0, 500)\n",
    "plt.plot(np.arange(start, len(y), dt), y,'g')\n",
    "plt.figure()\n",
    "plt.plot(np.arange(start, len(z), dt), z,'r')"
   ]
  },
  {
   "cell_type": "code",
   "execution_count": 75,
   "metadata": {},
   "outputs": [
    {
     "data": {
      "text/plain": [
       "[<matplotlib.lines.Line2D at 0x7f755a05a160>]"
      ]
     },
     "execution_count": 75,
     "metadata": {},
     "output_type": "execute_result"
    },
    {
     "data": {
      "image/png": "[encoded data removed]",
      "text/plain": [
       "<Figure size 432x288 with 1 Axes>"
      ]
     },
     "metadata": {
      "needs_background": "light"
     },
     "output_type": "display_data"
    },
    {
     "data": {
      "image/png": "[encoded data removed]",
      "text/plain": [
       "<Figure size 432x288 with 1 Axes>"
      ]
     },
     "metadata": {
      "needs_background": "light"
     },
     "output_type": "display_data"
    },
    {
     "data": {
      "image/png": "[encoded data removed]",
      "text/plain": [
       "<Figure size 432x288 with 1 Axes>"
      ]
     },
     "metadata": {
      "needs_background": "light"
     },
     "output_type": "display_data"
    }
   ],
   "source": [
    "times = np.arange(start, len(mag_x), dt)\n",
    "\n",
    "mag_x = []\n",
    "mag_y = []\n",
    "mag_z = []\n",
    "\n",
    "for mat in I:\n",
    "    x_sq_sum = 0\n",
    "    y_sq_sum = 0\n",
    "    z_sq_sum = 0\n",
    "    \n",
    "    for row in mat:\n",
    "        x_sq_sum += row[0]**2\n",
    "        y_sq_sum += row[1]**2\n",
    "        z_sq_sum += row[2]**2\n",
    "    \n",
    "    mag_x.append(x_sq_sum ** 0.5)\n",
    "    mag_y.append(y_sq_sum ** 0.5)\n",
    "    mag_z.append(z_sq_sum ** 0.5)\n",
    "\n",
    "plt.plot(times, mag_x,'b')\n",
    "plt.figure()\n",
    "#plt.xlim(0, 500)\n",
    "plt.plot(times, mag_y,'g')\n",
    "plt.figure()\n",
    "plt.plot(times, mag_z,'r')"
   ]
  },
  {
   "cell_type": "code",
   "execution_count": null,
   "metadata": {},
   "outputs": [],
   "source": []
  }
 ],
 "metadata": {
  "kernelspec": {
   "display_name": "Python 3",
   "language": "python",
   "name": "python3"
  },
  "language_info": {
   "codemirror_mode": {
    "name": "ipython",
    "version": 3
   },
   "file_extension": ".py",
   "mimetype": "text/x-python",
   "name": "python",
   "nbconvert_exporter": "python",
   "pygments_lexer": "ipython3",
   "version": "3.6.4"
  }
 },
 "nbformat": 4,
 "nbformat_minor": 2
}
