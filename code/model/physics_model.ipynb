{
 "cells": [
  {
   "cell_type": "code",
   "execution_count": 36,
   "metadata": {
    "scrolled": true
   },
   "outputs": [],
   "source": [
    "import numpy as np\n",
    "\n",
    "###########\n",
    "# constants\n",
    "###########\n",
    "\n",
    "n =  10  # number of PCBsats left in cubesat\n",
    "m_stac = 10 * (10 ** -3)  # mass of individual stac (KILOGRAMS)\n",
    "\n",
    "#R_z_dot = # tbd, this is our stack velocity in the z direction\n",
    "#R_z = # array of vertical positions of each stack\n",
    "\n",
    "dt = 1  # SECONDS\n",
    "\n",
    "#w_motor =  # motor ang velocity (radians per second)\n",
    "#l_screw =  # screw lead (meters)\n",
    "#r_screw =  # screw radius (meters)\n",
    "#v =  (w_motor * l_screw) / (2 * np.pi)  # linear velocity of screw shaft (meters per second)\n",
    "\n",
    "# 3x3 matrix for moment of inertia of cubesat without stacs\n",
    "MOI_cube = np.array([\n",
    "    [1308846.485, -10374.412, -13883.462],\n",
    "    [-10374.412, 1334376.646, -21514.642],\n",
    "    [-13883.462,-21514.642, 671472.124]]) / 1000000\n",
    "\n",
    "# 3x3 matrix giving moment of inertia of an individual stac about it's own axis\n",
    "MOI_stac = np.array([\n",
    "    [1/12 * (10.1 ** (-4)), 0, 0],\n",
    "    [0, 1/12 * (10.1 ** (-4)), 0], \n",
    "    [0, 0, 1/60000]\n",
    "])\n",
    "\n",
    "# nx3 length v giving the x y z locations of the stacs\n",
    "positions = np.array([\n",
    "    [0, 0, 7.5],\n",
    "    [0, 0, 9],\n",
    "    [0, 0, 10.5],\n",
    "    [0, 0, 12],\n",
    "    [0, 0, 13.5],\n",
    "    [0, 0, 15],\n",
    "    [0, 0, 16.5],\n",
    "    [0, 0, 18],\n",
    "    [0, 0, 19.5],\n",
    "    [0, 0, 21]\n",
    "])\n",
    "\n",
    "##################\n",
    "# helper functions\n",
    "##################\n",
    "\n",
    "# @@@@@@@@@@@@@@@@@@@@@@@@@@@@ double check correctness\n",
    "def v_shaft(w_motor, l_screw):\n",
    "    return (w_motor * l_screw) / (2 * np.pi)\n",
    "\n",
    "# note that R_z_dot \n",
    "#def make_J_dot(R_x, R_y, R_z_dot, n):\n",
    "#    xz = -n * m_stac * R_x * R_z_dot\n",
    "#    yz = -n * m_stac * R_y * R_z_dot\n",
    "#    return np.matrix([[0,  0,  xz],\n",
    "#                     [0,  0,  yz],\n",
    "#                      [xz, yz, 0]])\n",
    "\n",
    "#find moment of inertia of cubesat\n",
    "\n",
    "def inertia_of_cubesat(MOI_cube, MOI_stac, n, positions):\n",
    "    \n",
    "    MOI_mat = np.empty([3,3])\n",
    "        \n",
    "    for i in range(3):\n",
    "        for j in range(3):\n",
    "            \n",
    "            ab = 0\n",
    "            \n",
    "            for x in range(n):\n",
    "                if i != j:\n",
    "                    g = 0\n",
    "                else:\n",
    "                    g = positions[x,i] * positions[x,j]\n",
    "\n",
    "            ab += g  \n",
    "            \n",
    "        MOI_mat[i,j] = MOI_cube[i,j] + n * MOI_stac[i,j] + m_stac*ab\n",
    "        \n",
    "    return MOI_mat\n",
    "            \n",
    "    \n",
    "\n",
    "\n",
    "\n",
    "\n"
   ]
  },
  {
   "cell_type": "markdown",
   "metadata": {},
   "source": [
    "### TBD\n",
    "* update stac vertical positions at each time step\n",
    "* compute inertial matrix based on positions\n",
    "* encode some way of adjusting inertial matrix when a stac is released (if z > threshold: DECREASE N BY ONE??)\n",
    "* \n",
    "* NEW PLAN\n",
    "* use `inertia_of_cubesat` function to instantiate initial inertia matrix\n",
    "* gather the vertical positions of the terms in `positions`, our nx3 matrix of the pcb positions (impleentation can either pick out all the `z` terms and save in new matrix since these are the only things we care about, or we can just reuse `positions`)\n",
    "* update `z` values of `positions` after some time step, `dt`.\n",
    "*      if any positions are updated beyond threshold (`z > threshold`) remove them. I THINK WE CAN JUST DECREASE N BY COUNT of BELOW THRESHOLD\n",
    "*      recompute inertia matrix on update `positions`\n",
    "*      store result. I don't think we need to save ALL of the intermediate `positions`, just the most recent one"
   ]
  },
  {
   "cell_type": "code",
   "execution_count": 37,
   "metadata": {},
   "outputs": [
    {
     "name": "stdout",
     "output_type": "stream",
     "text": [
      "all PCBsats removed. aborting\n"
     ]
    }
   ],
   "source": [
    "# ========================\n",
    "# dynamics\n",
    "# ========================\n",
    "\n",
    "I = inertia_of_cubesat(MOI_cube, MOI_stac, n, positions) # current inertial matrix\n",
    "\n",
    "inertial_matrix_eigenvalues = [np.linalg.eig(I)[0]]\n",
    "\n",
    "# NOTE: the following variables are lists, appended with\n",
    "# calculations at each time step. should start with initial val\n",
    "v_stac = []\n",
    "angVel = []\n",
    "                      \n",
    "# CONSTANTS\n",
    "# dt defined above\n",
    "# w_motor :: ang vel provided by motor, acting on leadscrew\n",
    "# torqueCube :: torque from coil, reaction wheel, whatever we decide on\n",
    "THRESHOLD = 22.5 # defines vertical position at which pcb has left the cubesat\n",
    "\n",
    "def update_dynamics(w_motor, torqueCube, dt):\n",
    "    global n\n",
    "    global I\n",
    "    \n",
    "    # computes/updates new stac velocity\n",
    "    #v = v_shaft(w_motor, l_screw)  UNCOMMENT IF WE WANT TO USE VARIABLE STAC VELOCITY\n",
    "    v = 0.254 * 0.01\n",
    "    v_stac.append(v)\n",
    "    \n",
    "    # z_dot = vertical displacement of pcb's\n",
    "    z_dot = v * dt\n",
    "    \n",
    "    # update positions\n",
    "    count = 0\n",
    "    for row in range(n):\n",
    "        # new_z = z + z_dot\n",
    "        new_z = positions[row][2] + z_dot\n",
    "        \n",
    "        # update positions\n",
    "        positions[row][2] = new_z\n",
    "        \n",
    "        # count number pcb's which left cubesat\n",
    "        if new_z >= THRESHOLD:\n",
    "            count += 1      \n",
    "            \n",
    "    # decrease number of pcbs in satellite by `count`\n",
    "    n -= count\n",
    "    \n",
    "    if (n <= 0):\n",
    "        print(\"all PCBsats removed. aborting\")\n",
    "        return\n",
    "    \n",
    "    # compute new inertia matrix with updated positions + number of pcb's\n",
    "    I = inertia_of_cubesat(MOI_cube, MOI_stac, n, positions)\n",
    "    inertial_matrix_eigenvalues.append(np.linalg.eig(I)[0])\n",
    "    \n",
    "    # computes/updates new angular velocity\n",
    "    #angAccel = np.linalg.inv(I[-2]) * torqueCube\n",
    "    #angVel.append(angVel[-1] + angAccel * dt)\n",
    "    \n",
    "# ========================\n",
    "# simulation\n",
    "# ========================\n",
    "\n",
    "# fills in I, v_stac, angVel lists at each time step in (start, end)\n",
    "\n",
    "start = 0\n",
    "end = 60*100\n",
    "\n",
    "for i in np.arange(start, end+dt, dt):\n",
    "    if (n != 0):\n",
    "        update_dynamics(n, 0, dt)"
   ]
  },
  {
   "cell_type": "code",
   "execution_count": 38,
   "metadata": {},
   "outputs": [
    {
     "data": {
      "text/plain": [
       "array([ 0.        ,  0.        ,  5.08163879])"
      ]
     },
     "execution_count": 38,
     "metadata": {},
     "output_type": "execute_result"
    }
   ],
   "source": [
    "inertial_matrix_eigenvalues[0]"
   ]
  },
  {
   "cell_type": "code",
   "execution_count": 45,
   "metadata": {},
   "outputs": [
    {
     "data": {
      "text/plain": [
       "[<matplotlib.lines.Line2D at 0x1c51c0f0e10>]"
      ]
     },
     "execution_count": 45,
     "metadata": {},
     "output_type": "execute_result"
    },
    {
     "data": {
      "image/png": "[encoded data removed]",
      "text/plain": [
       "<matplotlib.figure.Figure at 0x1c51c1cb668>"
      ]
     },
     "metadata": {},
     "output_type": "display_data"
    }
   ],
   "source": [
    "import matplotlib.pyplot as plt\n",
    "x = [val[0] for val in inertial_matrix_eigenvalues]\n",
    "y = [val[1] for val in inertial_matrix_eigenvalues]\n",
    "z = [val[2] for val in inertial_matrix_eigenvalues]\n",
    "\n",
    "plt.plot(np.arange(start, len(x), dt), x)\n",
    "plt.plot(np.arange(start, len(y), dt), y)\n",
    "plt.plot(np.arange(start, len(z), dt), z)"
   ]
  },
  {
   "cell_type": "code",
   "execution_count": null,
   "metadata": {},
   "outputs": [],
   "source": []
  }
 ],
 "metadata": {
  "kernelspec": {
   "display_name": "Python 3",
   "language": "python",
   "name": "python3"
  },
  "language_info": {
   "codemirror_mode": {
    "name": "ipython",
    "version": 3
   },
   "file_extension": ".py",
   "mimetype": "text/x-python",
   "name": "python",
   "nbconvert_exporter": "python",
   "pygments_lexer": "ipython3",
   "version": "3.6.4"
  }
 },
 "nbformat": 4,
 "nbformat_minor": 2
}
