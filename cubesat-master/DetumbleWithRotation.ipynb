{
 "cells": [
  {
   "cell_type": "code",
   "execution_count": 6,
   "metadata": {},
   "outputs": [],
   "source": [
    "import numpy as np\n",
    "import matplotlib.pyplot as plt\n",
    "%matplotlib inline"
   ]
  },
  {
   "cell_type": "code",
   "execution_count": 34,
   "metadata": {},
   "outputs": [],
   "source": [
    "def rotation_matrix(a,b,c):\n",
    "    return np.array([\n",
    "        [np.cos(a)*np.cos(b)*np.cos(c)-np.sin(a)*np.sin(c), -np.cos(a)*np.cos(b)*np.sin(c)-np.sin(a)*np.cos(c), np.cos(a)*np.sin(b)],\n",
    "        [np.sin(a)*np.cos(b)*np.cos(c)+np.cos(a)*np.sin(c), -np.sin(a)*np.cos(b)*np.sin(c)+np.sin(a)*np.cos(c), np.sin(a)*np.sin(b)],\n",
    "        [-np.sin(b)*np.cos(c),np.sin(b)*np.sin(c), np.cos(b)]\n",
    "    ])"
   ]
  },
  {
   "cell_type": "code",
   "execution_count": 7,
   "metadata": {},
   "outputs": [],
   "source": [
    "def magnetorquer_out(mag_field_str, ang_vel, gain):\n",
    "    scalar_coef = -gain / np.dot(mag_field_str, mag_field_str)\n",
    "    magnetic_dipoles = scalar_coef * np.cross(mag_field_str, ang_vel)\n",
    "    return np.cross(magnetic_dipoles, mag_field_str)"
   ]
  },
  {
   "cell_type": "code",
   "execution_count": 53,
   "metadata": {},
   "outputs": [
    {
     "data": {
      "image/png": "[encoded data removed]",
      "text/plain": [
       "<matplotlib.figure.Figure at 0x10bab0128>"
      ]
     },
     "metadata": {},
     "output_type": "display_data"
    },
    {
     "data": {
      "image/png": "[encoded data removed]",
      "text/plain": [
       "<matplotlib.figure.Figure at 0x10bca0860>"
      ]
     },
     "metadata": {},
     "output_type": "display_data"
    }
   ],
   "source": [
    "b = np.array([1*10**-9, 2*10**-9, 3*10**-9])\n",
    "ang_accel = []\n",
    "ang_pos = []\n",
    "inertia_matrix = np.array([ \n",
    "    [1308846.485, -10374.412, -13883.462],\n",
    "    [-10374.412, 1334376.646, -21514.642],\n",
    "    [-13883.462,-21514.642, 671472.124]\n",
    "])/1000000 # kg * square meter\n",
    "initial_ang_vel = np.array([5,2,5])\n",
    "def gain_func(t):\n",
    "    return 1\n",
    "\n",
    "def detumble(initial_b,initial_ang_vel, initial_ang_position, gain, time, dt):\n",
    "    inverse_inertia_matrix = np.linalg.inv(inertia_matrix)\n",
    "    ang_acceleration = np.matmul(inverse_inertia_matrix,(magnetorquer_out(initial_b, initial_ang_vel, gain)))\n",
    "    \n",
    "    ang_accel.append(ang_acceleration)\n",
    "    new_ang_vel = initial_ang_vel + ang_acceleration*dt\n",
    "    return new_ang_vel\n",
    "\n",
    "def simulation(start,end,initial_b,initial_ang_vel,initial_ang_position,gain,dt):\n",
    "    times = np.arange(start,end+dt,dt)\n",
    "    vel_list = []\n",
    "    vel_list_mag = []\n",
    "    vel_list_x = []\n",
    "    vel_list_y = []\n",
    "    vel_list_z = []\n",
    "    ang_list_x = []\n",
    "    ang_list_y = []\n",
    "    ang_list_z = []\n",
    "    curr_vel = initial_ang_vel\n",
    "    curr_ang = initial_ang_position\n",
    "    curr_b = initial_b\n",
    "    for t in times:\n",
    "        curr_ang = curr_ang + curr_vel*dt\n",
    "        curr_b = np.matmul(rotation_matrix(curr_ang[0],curr_ang[1],curr_ang[2]), initial_b)\n",
    "        curr_vel = detumble(curr_b,curr_vel,curr_ang,gain(t),t,dt)\n",
    "        vel_list.append(curr_vel)\n",
    "        ang_pos.append(curr_ang)\n",
    "            \n",
    "    for i in vel_list:\n",
    "        vel_list_x.append(i[0]) \n",
    "        vel_list_y.append(i[1])\n",
    "        vel_list_z.append(i[2])\n",
    "        \n",
    "    for i in ang_pos:\n",
    "        ang_list_x.append(i[0])\n",
    "        ang_list_y.append(i[1])\n",
    "        ang_list_z.append(i[2])\n",
    "    \n",
    "    for j in range(len(vel_list)):\n",
    "        vel_list_mag.append(np.sqrt(vel_list_x[j]**2+vel_list_y[j]**2+vel_list_z[j]**2))\n",
    "    plt.figure()\n",
    "    plt.scatter(times,ang_list_x)\n",
    "    plt.scatter(times,ang_list_y)\n",
    "    plt.scatter(times,ang_list_z)\n",
    "    plt.figure()\n",
    "    plt.scatter(times,vel_list_x)\n",
    "    plt.scatter(times,vel_list_y)\n",
    "    plt.scatter(times,vel_list_z)\n",
    "        \n",
    "simulation(0,10,b,np.array([5,4,3]), np.array([10,20,30]), gain_func,0.1)   "
   ]
  },
  {
   "cell_type": "code",
   "execution_count": null,
   "metadata": {},
   "outputs": [],
   "source": []
  }
 ],
 "metadata": {
  "kernelspec": {
   "display_name": "Python 3",
   "language": "python",
   "name": "python3"
  },
  "language_info": {
   "codemirror_mode": {
    "name": "ipython",
    "version": 3
   },
   "file_extension": ".py",
   "mimetype": "text/x-python",
   "name": "python",
   "nbconvert_exporter": "python",
   "pygments_lexer": "ipython3",
   "version": "3.6.4"
  }
 },
 "nbformat": 4,
 "nbformat_minor": 2
}
