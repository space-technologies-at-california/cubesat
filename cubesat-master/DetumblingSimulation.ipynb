{
 "cells": [
  {
   "cell_type": "code",
   "execution_count": 1,
   "metadata": {},
   "outputs": [],
   "source": [
    "import numpy as np\n",
    "import matplotlib.pyplot as plt\n",
    "%matplotlib inline"
   ]
  },
  {
   "cell_type": "markdown",
   "metadata": {},
   "source": [
    "### Defining magnetorquer_out\n",
    "Uses bdot algorithm to output torque required to detumble satellite"
   ]
  },
  {
   "cell_type": "code",
   "execution_count": 61,
   "metadata": {},
   "outputs": [],
   "source": [
    "def magnetorquer_out(mag_field_str, ang_vel, gain):\n",
    "    scalar_coef = -gain / np.dot(mag_field_str, mag_field_str)\n",
    "    magnetic_dipoles = scalar_coef * np.cross(mag_field_str, ang_vel)\n",
    "    return np.cross(magnetic_dipoles, mag_field_str)"
   ]
  },
  {
   "cell_type": "code",
   "execution_count": null,
   "metadata": {},
   "outputs": [],
   "source": []
  },
  {
   "cell_type": "code",
   "execution_count": 64,
   "metadata": {},
   "outputs": [],
   "source": [
    "b = np.array([5.8,5.8,5.8]) \n",
    "    # Earth's magnetic field strength, in nano Teslas\n",
    "inertia_matrix = np.array([ # grams * square millimeters\n",
    "    [1308846.485, -10374.412, -13883.462],\n",
    "    [-10374.412, 1334376.646, -21514.642],\n",
    "    [-13883.462,-21514.642, 671472.124]\n",
    "])/1000000\n"
   ]
  },
  {
   "cell_type": "code",
   "execution_count": 65,
   "metadata": {},
   "outputs": [
    {
     "data": {
      "text/plain": [
       "array([7.45061394, 7.55442803, 3.68922932])"
      ]
     },
     "execution_count": 65,
     "metadata": {},
     "output_type": "execute_result"
    }
   ],
   "source": [
    "np.dot(b,inertia_matrix)\n"
   ]
  },
  {
   "cell_type": "markdown",
   "metadata": {},
   "source": [
    "### Defining simulate_detumble\n",
    "Simulates detumbling of satellite's angular velocity. Returns list of angular velocities corresponding to each time step. Gaussian noise is introduced in the calculation of curr_ang_vel."
   ]
  },
  {
   "cell_type": "code",
   "execution_count": 122,
   "metadata": {},
   "outputs": [
    {
     "ename": "AxisError",
     "evalue": "axisb: axis -1 is out of bounds for array of dimension 0",
     "output_type": "error",
     "traceback": [
      "\u001b[0;31m---------------------------------------------------------------------------\u001b[0m",
      "\u001b[0;31mAxisError\u001b[0m                                 Traceback (most recent call last)",
      "\u001b[0;32m<ipython-input-122-2cfcf84d9506>\u001b[0m in \u001b[0;36m<module>\u001b[0;34m()\u001b[0m\n\u001b[1;32m     19\u001b[0m     \u001b[0;32mreturn\u001b[0m \u001b[0mang_vel_data\u001b[0m\u001b[0;34m\u001b[0m\u001b[0m\n\u001b[1;32m     20\u001b[0m \u001b[0;34m\u001b[0m\u001b[0m\n\u001b[0;32m---> 21\u001b[0;31m \u001b[0ma\u001b[0m \u001b[0;34m=\u001b[0m \u001b[0msimulate_detumble\u001b[0m\u001b[0;34m(\u001b[0m\u001b[0mnp\u001b[0m\u001b[0;34m.\u001b[0m\u001b[0mpi\u001b[0m\u001b[0;34m/\u001b[0m\u001b[0;36m60\u001b[0m\u001b[0;34m,\u001b[0m \u001b[0;36m1\u001b[0m\u001b[0;34m,\u001b[0m \u001b[0;36m300\u001b[0m\u001b[0;34m,\u001b[0m \u001b[0;36m3\u001b[0m\u001b[0;34m)\u001b[0m\u001b[0;34m\u001b[0m\u001b[0m\n\u001b[0m",
      "\u001b[0;32m<ipython-input-122-2cfcf84d9506>\u001b[0m in \u001b[0;36msimulate_detumble\u001b[0;34m(initial_ang_vel, gain, time, dt)\u001b[0m\n\u001b[1;32m     13\u001b[0m         \u001b[0mcurr_ang_vel\u001b[0m \u001b[0;34m=\u001b[0m \u001b[0mang_vel_data\u001b[0m\u001b[0;34m[\u001b[0m\u001b[0mi\u001b[0m\u001b[0;34m]\u001b[0m\u001b[0;34m\u001b[0m\u001b[0m\n\u001b[1;32m     14\u001b[0m         \u001b[0minverse_inertia_matrix\u001b[0m \u001b[0;34m=\u001b[0m \u001b[0mnp\u001b[0m\u001b[0;34m.\u001b[0m\u001b[0mlinalg\u001b[0m\u001b[0;34m.\u001b[0m\u001b[0minv\u001b[0m\u001b[0;34m(\u001b[0m\u001b[0minertia_matrix\u001b[0m\u001b[0;34m)\u001b[0m\u001b[0;34m\u001b[0m\u001b[0m\n\u001b[0;32m---> 15\u001b[0;31m         \u001b[0mang_acceleration\u001b[0m \u001b[0;34m=\u001b[0m \u001b[0mmagnetorquer_out\u001b[0m\u001b[0;34m(\u001b[0m\u001b[0mb\u001b[0m\u001b[0;34m,\u001b[0m \u001b[0mcurr_ang_vel\u001b[0m\u001b[0;34m,\u001b[0m \u001b[0mgain\u001b[0m\u001b[0;34m)\u001b[0m \u001b[0;34m*\u001b[0m \u001b[0minverse_inertia_matrix\u001b[0m\u001b[0;34m\u001b[0m\u001b[0m\n\u001b[0m\u001b[1;32m     16\u001b[0m         \u001b[0;31m# TBD: introduce gaussian noise to the calculation of our new angular velocity\u001b[0m\u001b[0;34m\u001b[0m\u001b[0;34m\u001b[0m\u001b[0m\n\u001b[1;32m     17\u001b[0m         \u001b[0mnew_ang_vel\u001b[0m \u001b[0;34m=\u001b[0m \u001b[0mcurr_ang_vel\u001b[0m \u001b[0;34m+\u001b[0m \u001b[0mang_acceleration\u001b[0m\u001b[0;34m*\u001b[0m\u001b[0mdt\u001b[0m \u001b[0;31m# force is applied during entire time step\u001b[0m\u001b[0;34m\u001b[0m\u001b[0m\n",
      "\u001b[0;32m<ipython-input-61-64c3d769c1a5>\u001b[0m in \u001b[0;36mmagnetorquer_out\u001b[0;34m(mag_field_str, ang_vel, gain)\u001b[0m\n\u001b[1;32m      1\u001b[0m \u001b[0;32mdef\u001b[0m \u001b[0mmagnetorquer_out\u001b[0m\u001b[0;34m(\u001b[0m\u001b[0mmag_field_str\u001b[0m\u001b[0;34m,\u001b[0m \u001b[0mang_vel\u001b[0m\u001b[0;34m,\u001b[0m \u001b[0mgain\u001b[0m\u001b[0;34m)\u001b[0m\u001b[0;34m:\u001b[0m\u001b[0;34m\u001b[0m\u001b[0m\n\u001b[1;32m      2\u001b[0m     \u001b[0mscalar_coef\u001b[0m \u001b[0;34m=\u001b[0m \u001b[0;34m-\u001b[0m\u001b[0mgain\u001b[0m \u001b[0;34m/\u001b[0m \u001b[0mnp\u001b[0m\u001b[0;34m.\u001b[0m\u001b[0mdot\u001b[0m\u001b[0;34m(\u001b[0m\u001b[0mmag_field_str\u001b[0m\u001b[0;34m,\u001b[0m \u001b[0mmag_field_str\u001b[0m\u001b[0;34m)\u001b[0m\u001b[0;34m\u001b[0m\u001b[0m\n\u001b[0;32m----> 3\u001b[0;31m     \u001b[0mmagnetic_dipoles\u001b[0m \u001b[0;34m=\u001b[0m \u001b[0mscalar_coef\u001b[0m \u001b[0;34m*\u001b[0m \u001b[0mnp\u001b[0m\u001b[0;34m.\u001b[0m\u001b[0mcross\u001b[0m\u001b[0;34m(\u001b[0m\u001b[0mmag_field_str\u001b[0m\u001b[0;34m,\u001b[0m \u001b[0mang_vel\u001b[0m\u001b[0;34m)\u001b[0m\u001b[0;34m\u001b[0m\u001b[0m\n\u001b[0m\u001b[1;32m      4\u001b[0m     \u001b[0;32mreturn\u001b[0m \u001b[0mnp\u001b[0m\u001b[0;34m.\u001b[0m\u001b[0mcross\u001b[0m\u001b[0;34m(\u001b[0m\u001b[0mmagnetic_dipoles\u001b[0m\u001b[0;34m,\u001b[0m \u001b[0mmag_field_str\u001b[0m\u001b[0;34m)\u001b[0m\u001b[0;34m\u001b[0m\u001b[0m\n",
      "\u001b[0;32m~/anaconda3/lib/python3.6/site-packages/numpy/core/numeric.py\u001b[0m in \u001b[0;36mcross\u001b[0;34m(a, b, axisa, axisb, axisc, axis)\u001b[0m\n\u001b[1;32m   1708\u001b[0m     \u001b[0;31m# Check axisa and axisb are within bounds\u001b[0m\u001b[0;34m\u001b[0m\u001b[0;34m\u001b[0m\u001b[0m\n\u001b[1;32m   1709\u001b[0m     \u001b[0maxisa\u001b[0m \u001b[0;34m=\u001b[0m \u001b[0mnormalize_axis_index\u001b[0m\u001b[0;34m(\u001b[0m\u001b[0maxisa\u001b[0m\u001b[0;34m,\u001b[0m \u001b[0ma\u001b[0m\u001b[0;34m.\u001b[0m\u001b[0mndim\u001b[0m\u001b[0;34m,\u001b[0m \u001b[0mmsg_prefix\u001b[0m\u001b[0;34m=\u001b[0m\u001b[0;34m'axisa'\u001b[0m\u001b[0;34m)\u001b[0m\u001b[0;34m\u001b[0m\u001b[0m\n\u001b[0;32m-> 1710\u001b[0;31m     \u001b[0maxisb\u001b[0m \u001b[0;34m=\u001b[0m \u001b[0mnormalize_axis_index\u001b[0m\u001b[0;34m(\u001b[0m\u001b[0maxisb\u001b[0m\u001b[0;34m,\u001b[0m \u001b[0mb\u001b[0m\u001b[0;34m.\u001b[0m\u001b[0mndim\u001b[0m\u001b[0;34m,\u001b[0m \u001b[0mmsg_prefix\u001b[0m\u001b[0;34m=\u001b[0m\u001b[0;34m'axisb'\u001b[0m\u001b[0;34m)\u001b[0m\u001b[0;34m\u001b[0m\u001b[0m\n\u001b[0m\u001b[1;32m   1711\u001b[0m \u001b[0;34m\u001b[0m\u001b[0m\n\u001b[1;32m   1712\u001b[0m     \u001b[0;31m# Move working axis to the end of the shape\u001b[0m\u001b[0;34m\u001b[0m\u001b[0;34m\u001b[0m\u001b[0m\n",
      "\u001b[0;31mAxisError\u001b[0m: axisb: axis -1 is out of bounds for array of dimension 0"
     ]
    }
   ],
   "source": [
    "initial_ang_vel_array = np.linspace(np.pi/60, np.pi/6, 30) # generate possible initial ang_vel's\n",
    "b =np.array([5.8,5.8,5.8]) \n",
    "    # Earth's magnetic field strength, in nano Teslas\n",
    "inertia_matrix = np.array([ # kg * square meters\n",
    "    [1308846.485, -10374.412, -13883.462],\n",
    "    [-10374.412, 1334376.646, -21514.642],\n",
    "    [-13883.462,-21514.642, 671472.124]\n",
    "])/1000000\n",
    "\n",
    "def simulate_detumble(initial_ang_vel, gain, time, dt):    \n",
    "    ang_vel_data = [initial_ang_vel] # radians / second\n",
    "    for i in np.arange(len(np.arange(0, time + dt, dt))):\n",
    "        curr_ang_vel = ang_vel_data[i]\n",
    "        inverse_inertia_matrix = np.linalg.inv(inertia_matrix)\n",
    "        ang_acceleration = magnetorquer_out(b, curr_ang_vel, gain) * inverse_inertia_matrix \n",
    "        # TBD: introduce gaussian noise to the calculation of our new angular velocity\n",
    "        new_ang_vel = curr_ang_vel + ang_acceleration*dt # force is applied during entire time step\n",
    "        ang_vel_data = np.append(ang_vel_data, new_ang_vel) # appends new_ang_vel, \n",
    "    return ang_vel_data\n",
    "\n",
    "a = simulate_detumble(np.pi/60, 1, 300, 3)"
   ]
  },
  {
   "cell_type": "code",
   "execution_count": 129,
   "metadata": {},
   "outputs": [
    {
     "data": {
      "text/plain": [
       "[array([929.46532538,  10.65405278,  30.79580424]),\n",
       " array([864.51961946,  20.96515241,  58.48725105]),\n",
       " array([804.71494823,  30.91332993,  83.38602429]),\n",
       " array([749.63975877,  40.48468015, 105.77260712]),\n",
       " array([698.91587941,  49.67045135, 125.89939834]),\n",
       " array([652.19577129,  58.46624868, 143.99351802]),\n",
       " array([609.16001015,  66.87133813, 160.25933331]),\n",
       " array([569.51497837,  74.88803953, 174.88073229]),\n",
       " array([532.99074977,  82.52119813, 188.02317109]),\n",
       " array([499.33915042,  89.77772577, 199.83551666]),\n",
       " array([468.33198086,  96.66620317, 210.45170569]),\n",
       " array([439.75938589, 103.1965364 , 219.99223798]),\n",
       " array([413.42835947, 109.37966075, 228.56552073]),\n",
       " array([389.16137347, 115.22728652, 236.2690786 ]),\n",
       " array([366.79511964, 120.75168149, 243.19064298]),\n",
       " array([346.1793555 , 125.96548561, 249.40913244]),\n",
       " array([327.17584525, 130.88155389, 254.99553528]),\n",
       " array([309.65738783, 135.51282403, 260.01370384]),\n",
       " array([293.50692483, 139.87220547, 264.5210695 ]),\n",
       " array([278.61672159, 143.97248732, 268.5692862 ]),\n",
       " array([264.88761533, 147.82626253, 272.20480961]),\n",
       " array([252.22832485, 151.44586623, 275.46941839]),\n",
       " array([240.55481652, 154.84332636, 278.40068336]),\n",
       " array([229.78972203, 158.03032483, 281.03238967]),\n",
       " array([219.86180357, 161.01816778, 283.39491681]),\n",
       " array([210.7054625 , 163.81776362, 285.51558048]),\n",
       " array([202.26028786, 166.43960778, 287.41894038]),\n",
       " array([194.47064162, 168.89377304, 289.12707703]),\n",
       " array([187.28527744, 171.18990471, 290.659841  ]),\n",
       " array([180.65699027, 173.33721978, 292.03507706]),\n",
       " array([174.54229433, 175.34450946, 293.26882597]),\n",
       " array([168.90112698, 177.22014445, 294.37550595]),\n",
       " array([163.69657655, 178.97208252, 295.36807601]),\n",
       " array([158.89463199, 180.6078779 , 296.25818291]),\n",
       " array([154.46395269, 182.13469212, 297.05629333]),\n",
       " array([150.37565678, 183.55930602, 297.77181281]),\n",
       " array([146.60312641, 184.88813253, 298.41319275]),\n",
       " array([143.12182859, 186.12723017, 298.98802662]),\n",
       " array([139.90915044, 187.28231688, 299.50313661]),\n",
       " array([136.94424749, 188.35878409, 299.96465141]),\n",
       " array([134.20790421, 189.36171096, 300.37807638]),\n",
       " array([131.68240562, 190.29587845, 300.74835643]),\n",
       " array([129.35141904, 191.16578343, 301.07993279]),\n",
       " array([127.19988543, 191.97565241, 301.37679392]),\n",
       " array([125.21391915, 192.72945512, 301.64252137]),\n",
       " array([123.38071588, 193.43091766, 301.88033097]),\n",
       " array([121.68846771, 194.08353534, 302.09310992]),\n",
       " array([120.126285  , 194.69058505, 302.28345012]),\n",
       " array([118.68412444, 195.25513724, 302.4536781 ]),\n",
       " array([117.35272278, 195.78006742, 302.60588203]),\n",
       " array([116.12353579, 196.2680672 , 302.74193587]),\n",
       " array([114.98868207, 196.72165488, 302.8635212 ]),\n",
       " array([113.94089128, 197.14318557, 302.97214677]),\n",
       " array([112.9734564 , 197.53486078, 303.06916612]),\n",
       " array([112.08018982, 197.89873764, 303.15579337]),\n",
       " array([111.25538283, 198.23673765, 303.23311747]),\n",
       " array([110.49376835, 198.55065488, 303.30211494]),\n",
       " array([109.79048652, 198.84216392, 303.36366139]),\n",
       " array([109.14105301, 199.11282725, 303.4185418 ]),\n",
       " array([108.54132988, 199.36410231, 303.46745984]),\n",
       " array([107.98749861, 199.59734811, 303.51104615]),\n",
       " array([107.47603532, 199.81383155, 303.54986586]),\n",
       " array([107.00368792, 200.01473327, 303.58442529]),\n",
       " array([106.56745501, 200.20115328, 303.61517802]),\n",
       " array([106.16456647, 200.37411617, 303.64253028]),\n",
       " array([105.79246551, 200.53457604, 303.66684584]),\n",
       " array([105.4487922 , 200.68342115, 303.6884504 ]),\n",
       " array([105.13136821, 200.82147828, 303.70763548]),\n",
       " array([104.83818276, 200.94951679, 303.72466198]),\n",
       " array([104.56737969, 201.06825247, 303.73976336]),\n",
       " array([104.3172455 , 201.17835114, 303.75314842]),\n",
       " array([104.08619834, 201.28043199, 303.76500394]),\n",
       " array([103.87277785, 201.37507077, 303.7754969 ]),\n",
       " array([103.67563578, 201.46280274, 303.78477656]),\n",
       " array([103.49352734, 201.54412537, 303.79297632]),\n",
       " array([103.32530327, 201.61950103, 303.80021535]),\n",
       " array([103.16990241, 201.68935929, 303.8066001 ]),\n",
       " array([103.02634498, 201.75409926, 303.81222561]),\n",
       " array([102.89372629, 201.81409168, 303.81717671]),\n",
       " array([102.77121094, 201.86968083, 303.8215291 ]),\n",
       " array([102.65802753, 201.92118647, 303.82535031]),\n",
       " array([102.55346373, 201.96890545, 303.82870055]),\n",
       " array([102.45686173, 202.01311338, 303.83163349]),\n",
       " array([102.36761405, 202.05406608, 303.83419694]),\n",
       " array([102.28515968, 202.09200101, 303.8364335 ]),\n",
       " array([102.20898053, 202.12713851, 303.83838109]),\n",
       " array([102.13859812, 202.15968306, 303.84007345]),\n",
       " array([102.07357052, 202.18982436, 303.84154058]),\n",
       " array([102.0134896 , 202.2177384 , 303.84280917]),\n",
       " array([101.9579784 , 202.24358846, 303.84390291]),\n",
       " array([101.90668875, 202.26752594, 303.84484287]),\n",
       " array([101.85929906, 202.28969129, 303.84564771]),\n",
       " array([101.81551231, 202.31021475, 303.84633401]),\n",
       " array([101.77505413, 202.32921706, 303.84691645]),\n",
       " array([101.73767109, 202.34681019, 303.84740805]),\n",
       " array([101.7031291 , 202.36309795, 303.84782031]),\n",
       " array([101.67121194, 202.37817656, 303.84816342]),\n",
       " array([101.64171984, 202.39213523, 303.84844637]),\n",
       " array([101.61446829, 202.40505662, 303.8486771 ]),\n",
       " array([101.58928685, 202.41701735, 303.84886263]),\n",
       " array([101.56601804, 202.42808845, 303.84900912])]"
      ]
     },
     "execution_count": 129,
     "metadata": {},
     "output_type": "execute_result"
    },
    {
     "data": {
      "image/png": "[encoded data removed]",
      "text/plain": [
       "<matplotlib.figure.Figure at 0x117a4e048>"
      ]
     },
     "metadata": {},
     "output_type": "display_data"
    }
   ],
   "source": [
    "b =np.array([1,2,3])\n",
    "inertia_matrix = np.array([ \n",
    "    [1308846.485, -10374.412, -13883.462],\n",
    "    [-10374.412, 1334376.646, -21514.642],\n",
    "    [-13883.462,-21514.642, 671472.124]\n",
    "])/1000000 # kg * square meter\n",
    "initial_ang_vel = np.array([5,2,5])\n",
    "def detumble(initial_ang_vel, gain, time, dt):\n",
    "    inverse_inertia_matrix = np.linalg.inv(inertia_matrix)\n",
    "    ang_acceleration = np.matmul(inverse_inertia_matrix,(magnetorquer_out(b, initial_ang_vel, gain)))\n",
    "    new_ang_vel = initial_ang_vel + ang_acceleration*dt\n",
    "    return new_ang_vel\n",
    "\n",
    "def simulation(start,end,initial_ang_vel,gain,dt):\n",
    "    times = np.arange(start,end+dt,dt)\n",
    "    vel_list = []\n",
    "    vel_list_mag = []\n",
    "    vel_list_x = []\n",
    "    vel_list_y = []\n",
    "    vel_list_z = []\n",
    "    curr_vel = initial_ang_vel\n",
    "    for t in times:\n",
    "        curr_vel = detumble(curr_vel,gain,time,dt)\n",
    "        vel_list.append(curr_vel)\n",
    "            \n",
    "    for i in vel_list:\n",
    "        vel_list_x.append(i[0]) \n",
    "        vel_list_y.append(i[1])\n",
    "        vel_list_z.append(i[2])\n",
    "    for j in range(len(vel_list)):\n",
    "        vel_list_mag.append(np.sqrt(vel_list_x[j]**2+vel_list_y[j]**2+vel_list_z[j]**2))\n",
    "    plt.scatter(times,vel_list_mag)\n",
    "    return vel_list\n",
    "    #return vel_list    \n",
    "        \n",
    "simulation(0,10,np.array([1000,0,0]),1,0.1)        "
   ]
  },
  {
   "cell_type": "code",
   "execution_count": 56,
   "metadata": {},
   "outputs": [
    {
     "data": {
      "text/plain": [
       "array([[-3.28571429],\n",
       "       [ 1.42857143],\n",
       "       [ 0.14285714]])"
      ]
     },
     "execution_count": 56,
     "metadata": {},
     "output_type": "execute_result"
    }
   ],
   "source": [
    "(magnetorquer_out([1, 2, 3], [5, 2, 5], 1)).reshape((3,1)) "
   ]
  },
  {
   "cell_type": "code",
   "execution_count": 84,
   "metadata": {},
   "outputs": [
    {
     "data": {
      "text/plain": [
       "1.5"
      ]
     },
     "execution_count": 84,
     "metadata": {},
     "output_type": "execute_result"
    }
   ],
   "source": [
    "[float(i)*5/100 for i in range(int(5/0.05)+1)]\n",
    "time = 30 \n",
    "dt = 0.5\n",
    "times = [float(i)*time/int(time/dt) for i in range(int(time/dt)+1)]\n",
    "times\n",
    "\n",
    "np.arange(0,30.5,0.5)[3]"
   ]
  },
  {
   "cell_type": "markdown",
   "metadata": {},
   "source": [
    "### Old Version\n",
    "Originally used for brainstorming. Not complete."
   ]
  },
  {
   "cell_type": "code",
   "execution_count": 8,
   "metadata": {},
   "outputs": [
    {
     "ename": "NameError",
     "evalue": "name 'ang_vel_data' is not defined",
     "output_type": "error",
     "traceback": [
      "\u001b[0;31m---------------------------------------------------------------------------\u001b[0m",
      "\u001b[0;31mNameError\u001b[0m                                 Traceback (most recent call last)",
      "\u001b[0;32m<ipython-input-8-8da53d909f27>\u001b[0m in \u001b[0;36m<module>\u001b[0;34m()\u001b[0m\n\u001b[1;32m     12\u001b[0m \u001b[0;34m\u001b[0m\u001b[0m\n\u001b[1;32m     13\u001b[0m \u001b[0;32mfor\u001b[0m \u001b[0mi\u001b[0m \u001b[0;32min\u001b[0m \u001b[0mnp\u001b[0m\u001b[0;34m.\u001b[0m\u001b[0marange\u001b[0m\u001b[0;34m(\u001b[0m\u001b[0;36m0\u001b[0m\u001b[0;34m,\u001b[0m \u001b[0mtime\u001b[0m\u001b[0;34m,\u001b[0m \u001b[0mtime_step\u001b[0m\u001b[0;34m)\u001b[0m\u001b[0;34m:\u001b[0m\u001b[0;34m\u001b[0m\u001b[0m\n\u001b[0;32m---> 14\u001b[0;31m     \u001b[0minitial_ang_vel\u001b[0m \u001b[0;34m=\u001b[0m \u001b[0mang_vel_data\u001b[0m\u001b[0;34m[\u001b[0m\u001b[0mlen\u001b[0m\u001b[0;34m(\u001b[0m\u001b[0mang_vel_data\u001b[0m\u001b[0;34m)\u001b[0m\u001b[0;34m-\u001b[0m\u001b[0;36m1\u001b[0m\u001b[0;34m]\u001b[0m\u001b[0;34m\u001b[0m\u001b[0m\n\u001b[0m\u001b[1;32m     15\u001b[0m     \u001b[0minverse_inertia_matrix\u001b[0m \u001b[0;34m=\u001b[0m \u001b[0;34m...\u001b[0m\u001b[0;34m\u001b[0m\u001b[0m\n\u001b[1;32m     16\u001b[0m     \u001b[0mang_acceleration\u001b[0m \u001b[0;34m=\u001b[0m \u001b[0mmagnetorquer_out\u001b[0m\u001b[0;34m(\u001b[0m\u001b[0;34m...\u001b[0m\u001b[0;34m,\u001b[0m \u001b[0mcurr_ang\u001b[0m\u001b[0;34m,\u001b[0m \u001b[0;34m...\u001b[0m\u001b[0;34m)\u001b[0m \u001b[0;34m*\u001b[0m \u001b[0minverse_inertia_matrix\u001b[0m\u001b[0;34m\u001b[0m\u001b[0m\n",
      "\u001b[0;31mNameError\u001b[0m: name 'ang_vel_data' is not defined"
     ]
    }
   ],
   "source": [
    "time_step = 1 # seconds\n",
    "time = 300 # seconds\n",
    "curr_ang_vel = 10 # set initial\n",
    "inertia_matrix = [ # grams * square millimeters\n",
    "    [1308846.485, -10374.412, -13883.462],\n",
    "    [-10374.412, 1334376.646, -21514.642],\n",
    "    [-13883.462,-21514.642, 671472.124]\n",
    "]\n",
    "gain = 1.0\n",
    "b = 100 # geomagnetic field: nano Teslsas\n",
    "mu_0 = 4*np.pi*(10**-7)\n",
    "\n",
    "for i in np.arange(0, time, time_step):\n",
    "    initial_ang_vel = ang_vel_data[len(ang_vel_data)-1]\n",
    "    inverse_inertia_matrix = ...\n",
    "    ang_acceleration = magnetorquer_out(..., curr_ang, ...) * inverse_inertia_matrix \n",
    "    \n",
    "    # introduce gaussian noise to the calculation of our new angular velocity\n",
    "    curr_ang_vel = initial_ang_vel + ang_acceleration*time_step # force is applied during entire time_step\n",
    "    \n",
    "    \n",
    "    np.append(ang_vel_data, curr_ang_vel) # adds ang_vel data point to list\n",
    "\n",
    "plt.plot(np.arange(0, time, time_step), ang_vel_data) # generate plot"
   ]
  },
  {
   "cell_type": "code",
   "execution_count": 9,
   "metadata": {},
   "outputs": [
    {
     "data": {
      "text/plain": [
       "1.2566370614359173e-06"
      ]
     },
     "execution_count": 9,
     "metadata": {},
     "output_type": "execute_result"
    }
   ],
   "source": [
    "4*np.pi*(10**-7)"
   ]
  },
  {
   "cell_type": "code",
   "execution_count": null,
   "metadata": {},
   "outputs": [],
   "source": []
  }
 ],
 "metadata": {
  "kernelspec": {
   "display_name": "Python 3",
   "language": "python",
   "name": "python3"
  },
  "language_info": {
   "codemirror_mode": {
    "name": "ipython",
    "version": 3
   },
   "file_extension": ".py",
   "mimetype": "text/x-python",
   "name": "python",
   "nbconvert_exporter": "python",
   "pygments_lexer": "ipython3",
   "version": "3.6.4"
  }
 },
 "nbformat": 4,
 "nbformat_minor": 2
}
